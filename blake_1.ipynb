{
 "cells": [
  {
   "attachments": {},
   "cell_type": "markdown",
   "metadata": {},
   "source": [
    "# Module 4 Project 4: Jupyter Notebooks\n",
    "# Desiree Blake: https://github.com/dblake3377 "
   ]
  },
  {
   "attachments": {},
   "cell_type": "markdown",
   "metadata": {},
   "source": [
    "## Task 1 - Series"
   ]
  },
  {
   "cell_type": "markdown",
   "metadata": {},
   "source": []
  },
  {
   "cell_type": "code",
   "execution_count": null,
   "metadata": {},
   "outputs": [
    {
     "name": "stdout",
     "output_type": "stream",
     "text": [
      "87\n",
      "3\n",
      "3\n",
      "87\n",
      "100\n",
      "6.506407098647712\n",
      "count      3.000000\n",
      "mean      93.666667\n",
      "std        6.506407\n",
      "min       87.000000\n",
      "25%       90.500000\n",
      "50%       94.000000\n",
      "75%       97.000000\n",
      "max      100.000000\n",
      "dtype: float64\n"
     ]
    }
   ],
   "source": [
    "# Task 1- Series\n",
    "#Print value of first grade\n",
    "import pandas as pd\n",
    "grades = pd.Series([87,100,94])\n",
    "first_grade = grades[0]\n",
    "print(first_grade)\n",
    "\n",
    "#Call series functions: count(), min(), max(), std(), and describe()\n",
    "#Count\n",
    "print(grades.count())\n",
    "\n",
    "#Mean   \n",
    "print(grades.count())\n",
    "\n",
    "#Min \n",
    "print(grades.min())\n",
    "\n",
    "#Max\n",
    "print(grades.max())\n",
    "\n",
    "#Std\n",
    "print(grades.std())\n",
    "\n",
    "#Describe\n",
    "print(grades.describe())\n"
   ]
  },
  {
   "attachments": {},
   "cell_type": "markdown",
   "metadata": {},
   "source": [
    "Series from Dictionary "
   ]
  },
  {
   "cell_type": "code",
   "execution_count": null,
   "metadata": {},
   "outputs": [
    {
     "name": "stdout",
     "output_type": "stream",
     "text": [
      "Wally     87\n",
      "Eva      100\n",
      "Sam       94\n",
      "dtype: int64\n",
      "100\n",
      "87\n",
      "[ 87 100  94]\n"
     ]
    }
   ],
   "source": [
    "#Print grades\n",
    "import pandas as pd\n",
    "grades = pd.Series([87,100,94], index=['Wally', 'Eva', 'Sam'])\n",
    "print(grades)\n",
    "\n",
    "#Print Eva Score\n",
    "eva_score = grades['Eva']\n",
    "print(eva_score)\n",
    "\n",
    "# Get Wally's score using the dot notation: grades.Wally\n",
    "wally_score = grades.Wally\n",
    "print(wally_score) \n",
    "\n",
    "# Use the Series values attribute to display the array of values\n",
    "grades_values = grades.values\n",
    "print(grades_values)"
   ]
  }
 ],
 "metadata": {
  "kernelspec": {
   "display_name": ".venv",
   "language": "python",
   "name": "python3"
  },
  "language_info": {
   "codemirror_mode": {
    "name": "ipython",
    "version": 3
   },
   "file_extension": ".py",
   "mimetype": "text/x-python",
   "name": "python",
   "nbconvert_exporter": "python",
   "pygments_lexer": "ipython3",
   "version": "3.11.3"
  },
  "orig_nbformat": 4
 },
 "nbformat": 4,
 "nbformat_minor": 2
}
